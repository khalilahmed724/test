{
 "cells": [
  {
   "cell_type": "markdown",
   "metadata": {},
   "source": [
    "# Joint State Demo\n",
    "\n",
    ">This is an example of how to use the ipywidgets controller to manage a robots from a controller.\n",
    "\n",
    "Make sure there is a robot published, you can launch panda demo with the following command:\n",
    "\n",
    "`roslaunch {Notebook Example Folder}/launch/panda_demo.launch`"
   ]
  },
  {
   "cell_type": "code",
   "execution_count": null,
   "metadata": {},
   "outputs": [],
   "source": [
    "!rosnode kill joint_state_publisher"
   ]
  },
  {
   "cell_type": "code",
   "execution_count": null,
   "metadata": {},
   "outputs": [],
   "source": [
    "import random\n",
    "\n",
    "import ipywidgets as wid\n",
    "import rospy as rp\n",
    "from sensor_msgs.msg import JointState\n",
    "\n",
    "from ipywidgets import FloatSlider, Layout, Button, Box, FloatText, Textarea, Dropdown, Label, IntSlider"
   ]
  },
  {
   "cell_type": "code",
   "execution_count": null,
   "metadata": {},
   "outputs": [],
   "source": [
    "from joint_state_publisher import JointStatePublisher"
   ]
  },
  {
   "cell_type": "code",
   "execution_count": null,
   "metadata": {},
   "outputs": [],
   "source": [
    "jsp = JointStatePublisher()"
   ]
  },
  {
   "cell_type": "code",
   "execution_count": null,
   "metadata": {},
   "outputs": [],
   "source": [
    "rp.init_node('supernode')\n",
    "msg = JointState()"
   ]
  },
  {
   "cell_type": "code",
   "execution_count": null,
   "metadata": {},
   "outputs": [],
   "source": [
    "from joint_state_publisher import JointStatePublisher\n",
    "msg_joint = JointStatePublisher()"
   ]
  },
  {
   "cell_type": "code",
   "execution_count": null,
   "metadata": {},
   "outputs": [],
   "source": [
    "pad = wid.Controller()\n",
    "\n",
    "joints = {}\n",
    "for i in jsp.free_joints:\n",
    "    maxpos = jsp.free_joints[i]['max']\n",
    "    minpos = jsp.free_joints[i]['min']\n",
    "    step = (maxpos - minpos) / 100\n",
    "    joints[i] = { 'pos': 0, 'step': step, 'maxpos': maxpos, 'minpos': minpos }\n",
    "    \n",
    "pub = rp.Publisher('/joint_states', JointState, queue_size=10)\n",
    "\n",
    "def on_sent(data):\n",
    "    if pad.connected :\n",
    "        if data['owner'].buttons[0].value :\n",
    "            joints['panda_joint1']['pos'] = joints['panda_joint1']['pos'] + joints['panda_joint1']['step']\n",
    "            joints['panda_joint1']['pos'] = min([joints['panda_joint1']['pos'], joints['panda_joint1']['maxpos']])\n",
    "            \n",
    "        if data['owner'].buttons[1].value :\n",
    "            joints['panda_joint1']['pos'] = joints['panda_joint1']['pos'] - joints['panda_joint1']['step']\n",
    "            joints['panda_joint1']['pos'] = max([joints['panda_joint1']['pos'], joints['panda_joint1']['minpos']])\n",
    "\n",
    "        \n",
    "        if data['owner'].buttons[2].value :\n",
    "            joints['panda_joint2']['pos'] = joints['panda_joint2']['pos'] + joints['panda_joint2']['step']\n",
    "            joints['panda_joint2']['pos'] = min([joints['panda_joint2']['pos'], joints['panda_joint2']['maxpos']])\n",
    "            \n",
    "        if data['owner'].buttons[3].value :\n",
    "            joints['panda_joint2']['pos'] = joints['panda_joint2']['pos'] - joints['panda_joint2']['step']\n",
    "            joints['panda_joint2']['pos'] = max([joints['panda_joint2']['pos'], joints['panda_joint2']['minpos']])\n",
    "\n",
    "            \n",
    "        if data['owner'].buttons[12].value :\n",
    "            joints['panda_joint3']['pos'] = joints['panda_joint3']['pos'] + joints['panda_joint3']['step']\n",
    "            joints['panda_joint3']['pos'] = min([joints['panda_joint3']['pos'], joints['panda_joint3']['maxpos']])\n",
    "            \n",
    "        if data['owner'].buttons[13].value :\n",
    "            joints['panda_joint3']['pos'] = joints['panda_joint3']['pos'] - joints['panda_joint3']['step']\n",
    "            joints['panda_joint3']['pos'] = max([joints['panda_joint3']['pos'], joints['panda_joint3']['minpos']])\n",
    "\n",
    "            \n",
    "        if data['owner'].buttons[15].value :\n",
    "            joints['panda_joint4']['pos'] = joints['panda_joint4']['pos'] + joints['panda_joint4']['step']\n",
    "            joints['panda_joint4']['pos'] = min([joints['panda_joint4']['pos'], joints['panda_joint4']['maxpos']])\n",
    "            \n",
    "        if data['owner'].buttons[14].value :\n",
    "            joints['panda_joint4']['pos'] = joints['panda_joint4']['pos'] - joints['panda_joint4']['step']\n",
    "            joints['panda_joint4']['pos'] = max([joints['panda_joint4']['pos'], joints['panda_joint4']['minpos']])\n",
    "\n",
    "            \n",
    "        joints['panda_joint5']['pos'] = joints['panda_joint5']['pos'] + (data[\"owner\"].axes[1].value * joints['panda_joint5']['step'])\n",
    "        joints['panda_joint5']['pos'] = min([joints['panda_joint5']['pos'], joints['panda_joint5']['maxpos']])\n",
    "        joints['panda_joint5']['pos'] = max([joints['panda_joint5']['pos'], joints['panda_joint5']['minpos']])\n",
    "        \n",
    "\n",
    "        joints['panda_joint6']['pos'] = joints['panda_joint6']['pos'] + (data[\"owner\"].axes[3].value * joints['panda_joint6']['step'])\n",
    "        joints['panda_joint6']['pos'] = min([joints['panda_joint6']['pos'], joints['panda_joint6']['maxpos']])\n",
    "        joints['panda_joint6']['pos'] = max([joints['panda_joint6']['pos'], joints['panda_joint6']['minpos']])\n",
    "\n",
    "        \n",
    "        if data['owner'].buttons[5].value :\n",
    "            joints['panda_joint7']['pos'] = joints['panda_joint7']['pos'] + joints['panda_joint7']['step']\n",
    "            joints['panda_joint7']['pos'] = min([joints['panda_joint7']['pos'], joints['panda_joint7']['maxpos']])\n",
    "            \n",
    "        if data['owner'].buttons[4].value :\n",
    "            joints['panda_joint7']['pos'] = joints['panda_joint7']['pos'] - joints['panda_joint7']['step']\n",
    "            joints['panda_joint7']['pos'] = max([joints['panda_joint7']['pos'], joints['panda_joint7']['minpos']])\n",
    "\n",
    "            \n",
    "        if data['owner'].buttons[7].value :\n",
    "            joints['panda_finger_joint1']['pos'] = joints['panda_finger_joint1']['pos'] + joints['panda_finger_joint1']['step']\n",
    "            joints['panda_finger_joint1']['pos'] = min([joints['panda_finger_joint1']['pos'], joints['panda_finger_joint1']['maxpos']])\n",
    "            \n",
    "        if data['owner'].buttons[6].value :\n",
    "            joints['panda_finger_joint1']['pos'] = joints['panda_finger_joint1']['pos'] - joints['panda_finger_joint1']['step']\n",
    "            joints['panda_finger_joint1']['pos'] = max([joints['panda_finger_joint1']['pos'], joints['panda_finger_joint1']['minpos']])\n",
    "\n",
    "    name = []\n",
    "    position = []\n",
    "    \n",
    "    for i in joints:\n",
    "        position.append(joints[i]['pos'])\n",
    "        name.append(i)\n",
    "    \n",
    "    msg.header.stamp = rp.Time.now()\n",
    "    msg.name = name\n",
    "    msg.position = position\n",
    "    pub.publish(msg)\n",
    "\n",
    "pad.observe(on_sent)\n",
    "\n",
    "pad"
   ]
  },
  {
   "cell_type": "markdown",
   "metadata": {},
   "source": [
    "In this case, we are using Zethus to simulate the robot but you can connect a real robot to ros and use this form to control it."
   ]
  }
 ],
 "metadata": {
  "kernelspec": {
   "display_name": "Python 3",
   "language": "python",
   "name": "python3"
  },
  "language_info": {
   "codemirror_mode": {
    "name": "ipython",
    "version": 3
   },
   "file_extension": ".py",
   "mimetype": "text/x-python",
   "name": "python",
   "nbconvert_exporter": "python",
   "pygments_lexer": "ipython3",
   "version": "3.6.11"
  }
 },
 "nbformat": 4,
 "nbformat_minor": 4
}
