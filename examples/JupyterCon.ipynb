{
 "cells": [
  {
   "cell_type": "markdown",
   "metadata": {},
   "source": [
    "# Advanced Robotics in Jupyter Notebooks and JupyterLab"
   ]
  },
  {
   "cell_type": "markdown",
   "metadata": {},
   "source": [
    "Wolf Vollprecht"
   ]
  },
  {
   "cell_type": "markdown",
   "metadata": {},
   "source": [
    "Robotics is moving to the cloud, and there is a big need for web-based tooling. By creating custom plugins for the Jupyter ecosystem we aim to fill this void. We show examples of how we have extended JupyterLab with custom extensions to give it the ability to remote-control real robots, inspect logs from the robots, and analyze recorded data. With these developments, Jupyter can be a cornerstone"
   ]
  },
  {
   "cell_type": "markdown",
   "metadata": {},
   "source": [
    "Over the past 1.5 years we have developed an extensive suite of tools to combine the world of data science with that of robotics. Among those are conda packages for the ROS (Robot Operating System) world, and extensions to JupyterLab to make working with Robots in the web easy. There are:"
   ]
  },
  {
   "cell_type": "markdown",
   "metadata": {},
   "source": [
    "* Custom widgets to control rosbag (robot sensor recordings) playback in Jupyter notebooks\n",
    "* 3D robot visualization widgets\n",
    "* Live plotting of sensor data as widgets\n",
    "* JupyterLab integration with core ROS process supervision\n",
    "* JupyterLab extension to have a customizable 3D visualization of the robot state"
   ]
  },
  {
   "cell_type": "markdown",
   "metadata": {},
   "source": [
    "All of these tools combined with JupyterLab make for an insanely powerful combination for robot development and live robot deployment in the field. The entire process of robot initialization, parameter tuning and remote supervision of one or multiple robots can be done from the flexible and powerful JupyterLab interface. Additionally we will demonstrate package & environment management using the conda packages for ROS and our speedy mamba installer that runs even on restricted hardware. And of course we will have live demos of our robots!"
   ]
  },
  {
   "cell_type": "code",
   "execution_count": null,
   "metadata": {},
   "outputs": [],
   "source": []
  }
 ],
 "metadata": {
  "kernelspec": {
   "display_name": "Python 3",
   "language": "python",
   "name": "python3"
  },
  "language_info": {
   "codemirror_mode": {
    "name": "ipython",
    "version": 3
   },
   "file_extension": ".py",
   "mimetype": "text/x-python",
   "name": "python",
   "nbconvert_exporter": "python",
   "pygments_lexer": "ipython3",
   "version": "3.6.11"
  }
 },
 "nbformat": 4,
 "nbformat_minor": 4
}
